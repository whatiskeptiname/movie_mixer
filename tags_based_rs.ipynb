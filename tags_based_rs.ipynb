{
 "cells": [
  {
   "cell_type": "markdown",
   "metadata": {},
   "source": [
    "# Movie Recomendation System using Tags\n",
    "\n",
    "For this project [IMDB dataset](https://www.kaggle.com/stefanoleone992/imdb-extensive-dataset) is being used."
   ]
  },
  {
   "cell_type": "code",
   "execution_count": 13,
   "metadata": {},
   "outputs": [
    {
     "name": "stderr",
     "output_type": "stream",
     "text": [
      "/home/susang/Documents/sunyata/self/Python/movie_mixer/venv/lib/python3.9/site-packages/IPython/core/interactiveshell.py:3444: DtypeWarning: Columns (3) have mixed types.Specify dtype option on import or set low_memory=False.\n",
      "  exec(code_obj, self.user_global_ns, self.user_ns)\n"
     ]
    }
   ],
   "source": [
    "import pandas as pd\n",
    "\n",
    "\n",
    "movies = pd.read_csv('datasets/IMDb movies.csv')"
   ]
  },
  {
   "cell_type": "code",
   "execution_count": 14,
   "metadata": {},
   "outputs": [
    {
     "data": {
      "text/plain": [
       "(85855, 22)"
      ]
     },
     "execution_count": 14,
     "metadata": {},
     "output_type": "execute_result"
    }
   ],
   "source": [
    "movies.shape"
   ]
  },
  {
   "cell_type": "markdown",
   "metadata": {},
   "source": [
    "Selecting only the attributes that has most effect on the outcome."
   ]
  },
  {
   "cell_type": "code",
   "execution_count": 15,
   "metadata": {},
   "outputs": [],
   "source": [
    "movies = movies[['imdb_title_id', 'title', 'year', 'genre', 'duration', 'director', 'actors', 'description', 'avg_vote', 'votes']]"
   ]
  },
  {
   "cell_type": "code",
   "execution_count": 16,
   "metadata": {},
   "outputs": [
    {
     "data": {
      "text/html": [
       "<div>\n",
       "<style scoped>\n",
       "    .dataframe tbody tr th:only-of-type {\n",
       "        vertical-align: middle;\n",
       "    }\n",
       "\n",
       "    .dataframe tbody tr th {\n",
       "        vertical-align: top;\n",
       "    }\n",
       "\n",
       "    .dataframe thead th {\n",
       "        text-align: right;\n",
       "    }\n",
       "</style>\n",
       "<table border=\"1\" class=\"dataframe\">\n",
       "  <thead>\n",
       "    <tr style=\"text-align: right;\">\n",
       "      <th></th>\n",
       "      <th>imdb_title_id</th>\n",
       "      <th>title</th>\n",
       "      <th>year</th>\n",
       "      <th>genre</th>\n",
       "      <th>duration</th>\n",
       "      <th>director</th>\n",
       "      <th>actors</th>\n",
       "      <th>description</th>\n",
       "      <th>avg_vote</th>\n",
       "      <th>votes</th>\n",
       "    </tr>\n",
       "  </thead>\n",
       "  <tbody>\n",
       "    <tr>\n",
       "      <th>0</th>\n",
       "      <td>tt0000009</td>\n",
       "      <td>Miss Jerry</td>\n",
       "      <td>1894</td>\n",
       "      <td>Romance</td>\n",
       "      <td>45</td>\n",
       "      <td>Alexander Black</td>\n",
       "      <td>Blanche Bayliss, William Courtenay, Chauncey D...</td>\n",
       "      <td>The adventures of a female reporter in the 1890s.</td>\n",
       "      <td>5.9</td>\n",
       "      <td>154</td>\n",
       "    </tr>\n",
       "    <tr>\n",
       "      <th>1</th>\n",
       "      <td>tt0000574</td>\n",
       "      <td>The Story of the Kelly Gang</td>\n",
       "      <td>1906</td>\n",
       "      <td>Biography, Crime, Drama</td>\n",
       "      <td>70</td>\n",
       "      <td>Charles Tait</td>\n",
       "      <td>Elizabeth Tait, John Tait, Norman Campbell, Be...</td>\n",
       "      <td>True story of notorious Australian outlaw Ned ...</td>\n",
       "      <td>6.1</td>\n",
       "      <td>589</td>\n",
       "    </tr>\n",
       "    <tr>\n",
       "      <th>2</th>\n",
       "      <td>tt0001892</td>\n",
       "      <td>Den sorte drøm</td>\n",
       "      <td>1911</td>\n",
       "      <td>Drama</td>\n",
       "      <td>53</td>\n",
       "      <td>Urban Gad</td>\n",
       "      <td>Asta Nielsen, Valdemar Psilander, Gunnar Helse...</td>\n",
       "      <td>Two men of high rank are both wooing the beaut...</td>\n",
       "      <td>5.8</td>\n",
       "      <td>188</td>\n",
       "    </tr>\n",
       "    <tr>\n",
       "      <th>3</th>\n",
       "      <td>tt0002101</td>\n",
       "      <td>Cleopatra</td>\n",
       "      <td>1912</td>\n",
       "      <td>Drama, History</td>\n",
       "      <td>100</td>\n",
       "      <td>Charles L. Gaskill</td>\n",
       "      <td>Helen Gardner, Pearl Sindelar, Miss Fielding, ...</td>\n",
       "      <td>The fabled queen of Egypt's affair with Roman ...</td>\n",
       "      <td>5.2</td>\n",
       "      <td>446</td>\n",
       "    </tr>\n",
       "    <tr>\n",
       "      <th>4</th>\n",
       "      <td>tt0002130</td>\n",
       "      <td>L'Inferno</td>\n",
       "      <td>1911</td>\n",
       "      <td>Adventure, Drama, Fantasy</td>\n",
       "      <td>68</td>\n",
       "      <td>Francesco Bertolini, Adolfo Padovan</td>\n",
       "      <td>Salvatore Papa, Arturo Pirovano, Giuseppe de L...</td>\n",
       "      <td>Loosely adapted from Dante's Divine Comedy and...</td>\n",
       "      <td>7.0</td>\n",
       "      <td>2237</td>\n",
       "    </tr>\n",
       "  </tbody>\n",
       "</table>\n",
       "</div>"
      ],
      "text/plain": [
       "  imdb_title_id                        title  year                      genre  \\\n",
       "0     tt0000009                   Miss Jerry  1894                    Romance   \n",
       "1     tt0000574  The Story of the Kelly Gang  1906    Biography, Crime, Drama   \n",
       "2     tt0001892               Den sorte drøm  1911                      Drama   \n",
       "3     tt0002101                    Cleopatra  1912             Drama, History   \n",
       "4     tt0002130                    L'Inferno  1911  Adventure, Drama, Fantasy   \n",
       "\n",
       "   duration                             director  \\\n",
       "0        45                      Alexander Black   \n",
       "1        70                         Charles Tait   \n",
       "2        53                            Urban Gad   \n",
       "3       100                   Charles L. Gaskill   \n",
       "4        68  Francesco Bertolini, Adolfo Padovan   \n",
       "\n",
       "                                              actors  \\\n",
       "0  Blanche Bayliss, William Courtenay, Chauncey D...   \n",
       "1  Elizabeth Tait, John Tait, Norman Campbell, Be...   \n",
       "2  Asta Nielsen, Valdemar Psilander, Gunnar Helse...   \n",
       "3  Helen Gardner, Pearl Sindelar, Miss Fielding, ...   \n",
       "4  Salvatore Papa, Arturo Pirovano, Giuseppe de L...   \n",
       "\n",
       "                                         description  avg_vote  votes  \n",
       "0  The adventures of a female reporter in the 1890s.       5.9    154  \n",
       "1  True story of notorious Australian outlaw Ned ...       6.1    589  \n",
       "2  Two men of high rank are both wooing the beaut...       5.8    188  \n",
       "3  The fabled queen of Egypt's affair with Roman ...       5.2    446  \n",
       "4  Loosely adapted from Dante's Divine Comedy and...       7.0   2237  "
      ]
     },
     "execution_count": 16,
     "metadata": {},
     "output_type": "execute_result"
    }
   ],
   "source": [
    "movies.head()"
   ]
  },
  {
   "cell_type": "code",
   "execution_count": 17,
   "metadata": {},
   "outputs": [
    {
     "data": {
      "text/plain": [
       "(85855, 10)"
      ]
     },
     "execution_count": 17,
     "metadata": {},
     "output_type": "execute_result"
    }
   ],
   "source": [
    "movies.shape"
   ]
  },
  {
   "cell_type": "markdown",
   "metadata": {},
   "source": [
    "Function to convert string in to list."
   ]
  },
  {
   "cell_type": "code",
   "execution_count": 18,
   "metadata": {},
   "outputs": [],
   "source": [
    "def str_to_list(string):\n",
    "    li = list(string.split(\", \"))\n",
    "    return li"
   ]
  },
  {
   "cell_type": "markdown",
   "metadata": {},
   "source": [
    "Dropping empty entries."
   ]
  },
  {
   "cell_type": "code",
   "execution_count": 19,
   "metadata": {},
   "outputs": [],
   "source": [
    "movies.dropna(axis=0, how='any', inplace=True)"
   ]
  },
  {
   "cell_type": "code",
   "execution_count": 20,
   "metadata": {},
   "outputs": [
    {
     "data": {
      "text/plain": [
       "(83606, 10)"
      ]
     },
     "execution_count": 20,
     "metadata": {},
     "output_type": "execute_result"
    }
   ],
   "source": [
    "movies.shape"
   ]
  },
  {
   "cell_type": "markdown",
   "metadata": {},
   "source": [
    "Convert genre, director, actors string to list."
   ]
  },
  {
   "cell_type": "code",
   "execution_count": 21,
   "metadata": {},
   "outputs": [],
   "source": [
    "movies['genre'] = movies['genre'].apply(str_to_list)\n",
    "movies['director'] = movies['director'].apply(str_to_list)\n",
    "movies['actors'] = movies['actors'].apply(str_to_list)"
   ]
  },
  {
   "cell_type": "markdown",
   "metadata": {},
   "source": [
    "Convert description string to list."
   ]
  },
  {
   "cell_type": "code",
   "execution_count": 22,
   "metadata": {},
   "outputs": [],
   "source": [
    "movies['description'] = movies['description'].apply(lambda x:x.split())"
   ]
  },
  {
   "cell_type": "code",
   "execution_count": 24,
   "metadata": {},
   "outputs": [
    {
     "data": {
      "text/html": [
       "<div>\n",
       "<style scoped>\n",
       "    .dataframe tbody tr th:only-of-type {\n",
       "        vertical-align: middle;\n",
       "    }\n",
       "\n",
       "    .dataframe tbody tr th {\n",
       "        vertical-align: top;\n",
       "    }\n",
       "\n",
       "    .dataframe thead th {\n",
       "        text-align: right;\n",
       "    }\n",
       "</style>\n",
       "<table border=\"1\" class=\"dataframe\">\n",
       "  <thead>\n",
       "    <tr style=\"text-align: right;\">\n",
       "      <th></th>\n",
       "      <th>imdb_title_id</th>\n",
       "      <th>title</th>\n",
       "      <th>year</th>\n",
       "      <th>genre</th>\n",
       "      <th>duration</th>\n",
       "      <th>director</th>\n",
       "      <th>actors</th>\n",
       "      <th>description</th>\n",
       "      <th>avg_vote</th>\n",
       "      <th>votes</th>\n",
       "    </tr>\n",
       "  </thead>\n",
       "  <tbody>\n",
       "    <tr>\n",
       "      <th>0</th>\n",
       "      <td>tt0000009</td>\n",
       "      <td>Miss Jerry</td>\n",
       "      <td>1894</td>\n",
       "      <td>[Romance]</td>\n",
       "      <td>45</td>\n",
       "      <td>[Alexander Black]</td>\n",
       "      <td>[Blanche Bayliss, William Courtenay, Chauncey ...</td>\n",
       "      <td>[The, adventures, of, a, female, reporter, in,...</td>\n",
       "      <td>5.9</td>\n",
       "      <td>154</td>\n",
       "    </tr>\n",
       "    <tr>\n",
       "      <th>1</th>\n",
       "      <td>tt0000574</td>\n",
       "      <td>The Story of the Kelly Gang</td>\n",
       "      <td>1906</td>\n",
       "      <td>[Biography, Crime, Drama]</td>\n",
       "      <td>70</td>\n",
       "      <td>[Charles Tait]</td>\n",
       "      <td>[Elizabeth Tait, John Tait, Norman Campbell, B...</td>\n",
       "      <td>[True, story, of, notorious, Australian, outla...</td>\n",
       "      <td>6.1</td>\n",
       "      <td>589</td>\n",
       "    </tr>\n",
       "    <tr>\n",
       "      <th>2</th>\n",
       "      <td>tt0001892</td>\n",
       "      <td>Den sorte drøm</td>\n",
       "      <td>1911</td>\n",
       "      <td>[Drama]</td>\n",
       "      <td>53</td>\n",
       "      <td>[Urban Gad]</td>\n",
       "      <td>[Asta Nielsen, Valdemar Psilander, Gunnar Hels...</td>\n",
       "      <td>[Two, men, of, high, rank, are, both, wooing, ...</td>\n",
       "      <td>5.8</td>\n",
       "      <td>188</td>\n",
       "    </tr>\n",
       "    <tr>\n",
       "      <th>3</th>\n",
       "      <td>tt0002101</td>\n",
       "      <td>Cleopatra</td>\n",
       "      <td>1912</td>\n",
       "      <td>[Drama, History]</td>\n",
       "      <td>100</td>\n",
       "      <td>[Charles L. Gaskill]</td>\n",
       "      <td>[Helen Gardner, Pearl Sindelar, Miss Fielding,...</td>\n",
       "      <td>[The, fabled, queen, of, Egypt's, affair, with...</td>\n",
       "      <td>5.2</td>\n",
       "      <td>446</td>\n",
       "    </tr>\n",
       "    <tr>\n",
       "      <th>4</th>\n",
       "      <td>tt0002130</td>\n",
       "      <td>L'Inferno</td>\n",
       "      <td>1911</td>\n",
       "      <td>[Adventure, Drama, Fantasy]</td>\n",
       "      <td>68</td>\n",
       "      <td>[Francesco Bertolini, Adolfo Padovan]</td>\n",
       "      <td>[Salvatore Papa, Arturo Pirovano, Giuseppe de ...</td>\n",
       "      <td>[Loosely, adapted, from, Dante's, Divine, Come...</td>\n",
       "      <td>7.0</td>\n",
       "      <td>2237</td>\n",
       "    </tr>\n",
       "  </tbody>\n",
       "</table>\n",
       "</div>"
      ],
      "text/plain": [
       "  imdb_title_id                        title  year  \\\n",
       "0     tt0000009                   Miss Jerry  1894   \n",
       "1     tt0000574  The Story of the Kelly Gang  1906   \n",
       "2     tt0001892               Den sorte drøm  1911   \n",
       "3     tt0002101                    Cleopatra  1912   \n",
       "4     tt0002130                    L'Inferno  1911   \n",
       "\n",
       "                         genre  duration  \\\n",
       "0                    [Romance]        45   \n",
       "1    [Biography, Crime, Drama]        70   \n",
       "2                      [Drama]        53   \n",
       "3             [Drama, History]       100   \n",
       "4  [Adventure, Drama, Fantasy]        68   \n",
       "\n",
       "                                director  \\\n",
       "0                      [Alexander Black]   \n",
       "1                         [Charles Tait]   \n",
       "2                            [Urban Gad]   \n",
       "3                   [Charles L. Gaskill]   \n",
       "4  [Francesco Bertolini, Adolfo Padovan]   \n",
       "\n",
       "                                              actors  \\\n",
       "0  [Blanche Bayliss, William Courtenay, Chauncey ...   \n",
       "1  [Elizabeth Tait, John Tait, Norman Campbell, B...   \n",
       "2  [Asta Nielsen, Valdemar Psilander, Gunnar Hels...   \n",
       "3  [Helen Gardner, Pearl Sindelar, Miss Fielding,...   \n",
       "4  [Salvatore Papa, Arturo Pirovano, Giuseppe de ...   \n",
       "\n",
       "                                         description  avg_vote  votes  \n",
       "0  [The, adventures, of, a, female, reporter, in,...       5.9    154  \n",
       "1  [True, story, of, notorious, Australian, outla...       6.1    589  \n",
       "2  [Two, men, of, high, rank, are, both, wooing, ...       5.8    188  \n",
       "3  [The, fabled, queen, of, Egypt's, affair, with...       5.2    446  \n",
       "4  [Loosely, adapted, from, Dante's, Divine, Come...       7.0   2237  "
      ]
     },
     "execution_count": 24,
     "metadata": {},
     "output_type": "execute_result"
    }
   ],
   "source": [
    "movies.head()"
   ]
  },
  {
   "cell_type": "markdown",
   "metadata": {},
   "source": [
    "Filtering movies based on no. of ratings."
   ]
  },
  {
   "cell_type": "code",
   "execution_count": 25,
   "metadata": {},
   "outputs": [
    {
     "data": {
      "text/plain": [
       "(19984, 10)"
      ]
     },
     "execution_count": 25,
     "metadata": {},
     "output_type": "execute_result"
    }
   ],
   "source": [
    "movies = movies[movies['votes'] >= 2000]\n",
    "movies.shape"
   ]
  },
  {
   "cell_type": "markdown",
   "metadata": {},
   "source": [
    "Convert year, duration and avg_vote to list."
   ]
  },
  {
   "cell_type": "code",
   "execution_count": 26,
   "metadata": {},
   "outputs": [],
   "source": [
    "movies['year'] = movies['year'].apply(lambda x:[str(x)])\n",
    "movies['duration'] = movies['duration'].apply(lambda x:[str(x)])\n",
    "movies['avg_vote'] = movies['avg_vote'].apply(lambda x:[str(x)])"
   ]
  },
  {
   "cell_type": "markdown",
   "metadata": {},
   "source": [
    "Create tags col to combine all the attributes at a place."
   ]
  },
  {
   "cell_type": "code",
   "execution_count": 27,
   "metadata": {},
   "outputs": [],
   "source": [
    "movies['tags'] = movies['year'] + movies['genre'] + movies['duration'] + movies['actors'] + movies['description'] + movies['avg_vote'] "
   ]
  },
  {
   "cell_type": "markdown",
   "metadata": {},
   "source": [
    "keeping only imdb_title_id, title and tags attributes."
   ]
  },
  {
   "cell_type": "code",
   "execution_count": 28,
   "metadata": {},
   "outputs": [],
   "source": [
    "columns = ['year', 'genre', 'duration', 'director', 'actors', 'description', 'avg_vote', 'votes']\n",
    "final_movies = movies.drop(columns = columns)"
   ]
  },
  {
   "cell_type": "code",
   "execution_count": 29,
   "metadata": {},
   "outputs": [
    {
     "data": {
      "text/html": [
       "<div>\n",
       "<style scoped>\n",
       "    .dataframe tbody tr th:only-of-type {\n",
       "        vertical-align: middle;\n",
       "    }\n",
       "\n",
       "    .dataframe tbody tr th {\n",
       "        vertical-align: top;\n",
       "    }\n",
       "\n",
       "    .dataframe thead th {\n",
       "        text-align: right;\n",
       "    }\n",
       "</style>\n",
       "<table border=\"1\" class=\"dataframe\">\n",
       "  <thead>\n",
       "    <tr style=\"text-align: right;\">\n",
       "      <th></th>\n",
       "      <th>imdb_title_id</th>\n",
       "      <th>title</th>\n",
       "      <th>tags</th>\n",
       "    </tr>\n",
       "  </thead>\n",
       "  <tbody>\n",
       "    <tr>\n",
       "      <th>4</th>\n",
       "      <td>tt0002130</td>\n",
       "      <td>L'Inferno</td>\n",
       "      <td>[1911, Adventure, Drama, Fantasy, 68, Salvator...</td>\n",
       "    </tr>\n",
       "    <tr>\n",
       "      <th>24</th>\n",
       "      <td>tt0003740</td>\n",
       "      <td>Cabiria</td>\n",
       "      <td>[1914, Adventure, Drama, History, 148, Carolin...</td>\n",
       "    </tr>\n",
       "    <tr>\n",
       "      <th>39</th>\n",
       "      <td>tt0004707</td>\n",
       "      <td>Tillie's Punctured Romance</td>\n",
       "      <td>[1914, Comedy, 82, Marie Dressler, Charles Cha...</td>\n",
       "    </tr>\n",
       "    <tr>\n",
       "      <th>47</th>\n",
       "      <td>tt0004972</td>\n",
       "      <td>Nascita di una nazione</td>\n",
       "      <td>[1915, Drama, History, War, 195, Henry B. Walt...</td>\n",
       "    </tr>\n",
       "    <tr>\n",
       "      <th>49</th>\n",
       "      <td>tt0005078</td>\n",
       "      <td>The Cheat</td>\n",
       "      <td>[1915, Drama, Romance, 59, Fannie Ward, Sessue...</td>\n",
       "    </tr>\n",
       "  </tbody>\n",
       "</table>\n",
       "</div>"
      ],
      "text/plain": [
       "   imdb_title_id                       title  \\\n",
       "4      tt0002130                   L'Inferno   \n",
       "24     tt0003740                     Cabiria   \n",
       "39     tt0004707  Tillie's Punctured Romance   \n",
       "47     tt0004972      Nascita di una nazione   \n",
       "49     tt0005078                   The Cheat   \n",
       "\n",
       "                                                 tags  \n",
       "4   [1911, Adventure, Drama, Fantasy, 68, Salvator...  \n",
       "24  [1914, Adventure, Drama, History, 148, Carolin...  \n",
       "39  [1914, Comedy, 82, Marie Dressler, Charles Cha...  \n",
       "47  [1915, Drama, History, War, 195, Henry B. Walt...  \n",
       "49  [1915, Drama, Romance, 59, Fannie Ward, Sessue...  "
      ]
     },
     "execution_count": 29,
     "metadata": {},
     "output_type": "execute_result"
    }
   ],
   "source": [
    "final_movies.head()"
   ]
  },
  {
   "cell_type": "markdown",
   "metadata": {},
   "source": [
    "Convet tags to string."
   ]
  },
  {
   "cell_type": "code",
   "execution_count": 30,
   "metadata": {},
   "outputs": [
    {
     "data": {
      "text/html": [
       "<div>\n",
       "<style scoped>\n",
       "    .dataframe tbody tr th:only-of-type {\n",
       "        vertical-align: middle;\n",
       "    }\n",
       "\n",
       "    .dataframe tbody tr th {\n",
       "        vertical-align: top;\n",
       "    }\n",
       "\n",
       "    .dataframe thead th {\n",
       "        text-align: right;\n",
       "    }\n",
       "</style>\n",
       "<table border=\"1\" class=\"dataframe\">\n",
       "  <thead>\n",
       "    <tr style=\"text-align: right;\">\n",
       "      <th></th>\n",
       "      <th>index</th>\n",
       "      <th>imdb_title_id</th>\n",
       "      <th>title</th>\n",
       "      <th>tags</th>\n",
       "    </tr>\n",
       "  </thead>\n",
       "  <tbody>\n",
       "    <tr>\n",
       "      <th>0</th>\n",
       "      <td>4</td>\n",
       "      <td>tt0002130</td>\n",
       "      <td>L'Inferno</td>\n",
       "      <td>1911 Adventure Drama Fantasy 68 Salvatore Papa...</td>\n",
       "    </tr>\n",
       "    <tr>\n",
       "      <th>1</th>\n",
       "      <td>24</td>\n",
       "      <td>tt0003740</td>\n",
       "      <td>Cabiria</td>\n",
       "      <td>1914 Adventure Drama History 148 Carolina Cate...</td>\n",
       "    </tr>\n",
       "    <tr>\n",
       "      <th>2</th>\n",
       "      <td>39</td>\n",
       "      <td>tt0004707</td>\n",
       "      <td>Tillie's Punctured Romance</td>\n",
       "      <td>1914 Comedy 82 Marie Dressler Charles Chaplin ...</td>\n",
       "    </tr>\n",
       "    <tr>\n",
       "      <th>3</th>\n",
       "      <td>47</td>\n",
       "      <td>tt0004972</td>\n",
       "      <td>Nascita di una nazione</td>\n",
       "      <td>1915 Drama History War 195 Henry B. Walthall L...</td>\n",
       "    </tr>\n",
       "    <tr>\n",
       "      <th>4</th>\n",
       "      <td>49</td>\n",
       "      <td>tt0005078</td>\n",
       "      <td>The Cheat</td>\n",
       "      <td>1915 Drama Romance 59 Fannie Ward Sessue Hayak...</td>\n",
       "    </tr>\n",
       "  </tbody>\n",
       "</table>\n",
       "</div>"
      ],
      "text/plain": [
       "   index imdb_title_id                       title  \\\n",
       "0      4     tt0002130                   L'Inferno   \n",
       "1     24     tt0003740                     Cabiria   \n",
       "2     39     tt0004707  Tillie's Punctured Romance   \n",
       "3     47     tt0004972      Nascita di una nazione   \n",
       "4     49     tt0005078                   The Cheat   \n",
       "\n",
       "                                                tags  \n",
       "0  1911 Adventure Drama Fantasy 68 Salvatore Papa...  \n",
       "1  1914 Adventure Drama History 148 Carolina Cate...  \n",
       "2  1914 Comedy 82 Marie Dressler Charles Chaplin ...  \n",
       "3  1915 Drama History War 195 Henry B. Walthall L...  \n",
       "4  1915 Drama Romance 59 Fannie Ward Sessue Hayak...  "
      ]
     },
     "execution_count": 30,
     "metadata": {},
     "output_type": "execute_result"
    }
   ],
   "source": [
    "final_movies['tags'] = final_movies['tags'].apply(lambda x:\" \".join(x))\n",
    "final_movies = final_movies.reset_index()\n",
    "final_movies.head()"
   ]
  },
  {
   "cell_type": "markdown",
   "metadata": {},
   "source": [
    "Vectorize the tags and removing stop words."
   ]
  },
  {
   "cell_type": "code",
   "execution_count": 31,
   "metadata": {},
   "outputs": [],
   "source": [
    "from sklearn.feature_extraction.text import CountVectorizer\n",
    "cv = CountVectorizer(max_features=1000, stop_words='english')"
   ]
  },
  {
   "cell_type": "code",
   "execution_count": 32,
   "metadata": {},
   "outputs": [],
   "source": [
    "vector = cv.fit_transform(final_movies['tags']).toarray()"
   ]
  },
  {
   "cell_type": "code",
   "execution_count": 33,
   "metadata": {},
   "outputs": [
    {
     "data": {
      "text/plain": [
       "(19984, 1000)"
      ]
     },
     "execution_count": 33,
     "metadata": {},
     "output_type": "execute_result"
    }
   ],
   "source": [
    "vector.shape"
   ]
  },
  {
   "cell_type": "markdown",
   "metadata": {},
   "source": [
    "Using cosine_similarity for clustering."
   ]
  },
  {
   "cell_type": "code",
   "execution_count": 34,
   "metadata": {},
   "outputs": [],
   "source": [
    "from sklearn.metrics.pairwise import cosine_similarity\n",
    "\n",
    "similarity = cosine_similarity(vector)"
   ]
  },
  {
   "cell_type": "code",
   "execution_count": 35,
   "metadata": {},
   "outputs": [
    {
     "data": {
      "text/plain": [
       "array([[1.        , 0.1833397 , 0.10101525, ..., 0.        , 0.13159034,\n",
       "        0.        ],\n",
       "       [0.1833397 , 1.        , 0.        , ..., 0.04356068, 0.        ,\n",
       "        0.        ],\n",
       "       [0.10101525, 0.        , 1.        , ..., 0.        , 0.04652421,\n",
       "        0.        ],\n",
       "       ...,\n",
       "       [0.        , 0.04356068, 0.        , ..., 1.        , 0.18759162,\n",
       "        0.17038855],\n",
       "       [0.13159034, 0.        , 0.04652421, ..., 0.18759162, 1.        ,\n",
       "        0.05504819],\n",
       "       [0.        , 0.        , 0.        , ..., 0.17038855, 0.05504819,\n",
       "        1.        ]])"
      ]
     },
     "execution_count": 35,
     "metadata": {},
     "output_type": "execute_result"
    }
   ],
   "source": [
    "similarity"
   ]
  },
  {
   "cell_type": "markdown",
   "metadata": {},
   "source": [
    "Create recommend function to recomend similar movies."
   ]
  },
  {
   "cell_type": "code",
   "execution_count": 36,
   "metadata": {},
   "outputs": [],
   "source": [
    "def recommend(movie):\n",
    "    index = final_movies[final_movies['title']==movie].index[0]\n",
    "    distances = sorted(list(enumerate(similarity[index])), reverse=True, key=lambda x:x[1])\n",
    "    for i in distances[1:6]:\n",
    "        print(final_movies.iloc[i[0]].title)"
   ]
  },
  {
   "cell_type": "markdown",
   "metadata": {},
   "source": [
    "Dump the final_movies and similarity."
   ]
  },
  {
   "cell_type": "code",
   "execution_count": 37,
   "metadata": {},
   "outputs": [],
   "source": [
    "import pickle\n",
    "\n",
    "pickle.dump(final_movies, open('pickles/movie_list.p', 'wb'))\n",
    "pickle.dump(similarity, open('pickles/similarity.p', 'wb'))"
   ]
  },
  {
   "cell_type": "code",
   "execution_count": 38,
   "metadata": {},
   "outputs": [
    {
     "data": {
      "text/html": [
       "<div>\n",
       "<style scoped>\n",
       "    .dataframe tbody tr th:only-of-type {\n",
       "        vertical-align: middle;\n",
       "    }\n",
       "\n",
       "    .dataframe tbody tr th {\n",
       "        vertical-align: top;\n",
       "    }\n",
       "\n",
       "    .dataframe thead th {\n",
       "        text-align: right;\n",
       "    }\n",
       "</style>\n",
       "<table border=\"1\" class=\"dataframe\">\n",
       "  <thead>\n",
       "    <tr style=\"text-align: right;\">\n",
       "      <th></th>\n",
       "      <th>index</th>\n",
       "      <th>imdb_title_id</th>\n",
       "      <th>title</th>\n",
       "      <th>tags</th>\n",
       "    </tr>\n",
       "  </thead>\n",
       "  <tbody>\n",
       "    <tr>\n",
       "      <th>0</th>\n",
       "      <td>4</td>\n",
       "      <td>tt0002130</td>\n",
       "      <td>L'Inferno</td>\n",
       "      <td>1911 Adventure Drama Fantasy 68 Salvatore Papa...</td>\n",
       "    </tr>\n",
       "    <tr>\n",
       "      <th>1</th>\n",
       "      <td>24</td>\n",
       "      <td>tt0003740</td>\n",
       "      <td>Cabiria</td>\n",
       "      <td>1914 Adventure Drama History 148 Carolina Cate...</td>\n",
       "    </tr>\n",
       "    <tr>\n",
       "      <th>2</th>\n",
       "      <td>39</td>\n",
       "      <td>tt0004707</td>\n",
       "      <td>Tillie's Punctured Romance</td>\n",
       "      <td>1914 Comedy 82 Marie Dressler Charles Chaplin ...</td>\n",
       "    </tr>\n",
       "    <tr>\n",
       "      <th>3</th>\n",
       "      <td>47</td>\n",
       "      <td>tt0004972</td>\n",
       "      <td>Nascita di una nazione</td>\n",
       "      <td>1915 Drama History War 195 Henry B. Walthall L...</td>\n",
       "    </tr>\n",
       "    <tr>\n",
       "      <th>4</th>\n",
       "      <td>49</td>\n",
       "      <td>tt0005078</td>\n",
       "      <td>The Cheat</td>\n",
       "      <td>1915 Drama Romance 59 Fannie Ward Sessue Hayak...</td>\n",
       "    </tr>\n",
       "    <tr>\n",
       "      <th>...</th>\n",
       "      <td>...</td>\n",
       "      <td>...</td>\n",
       "      <td>...</td>\n",
       "      <td>...</td>\n",
       "    </tr>\n",
       "    <tr>\n",
       "      <th>19979</th>\n",
       "      <td>85791</td>\n",
       "      <td>tt9831136</td>\n",
       "      <td>The Banana Splits Movie</td>\n",
       "      <td>2019 Comedy Horror Sci-Fi 89 Dani Kind Steve L...</td>\n",
       "    </tr>\n",
       "    <tr>\n",
       "      <th>19980</th>\n",
       "      <td>85811</td>\n",
       "      <td>tt9860728</td>\n",
       "      <td>Falling Inn Love - Ristrutturazione con amore</td>\n",
       "      <td>2019 Comedy Romance 98 Christina Milian Adam D...</td>\n",
       "    </tr>\n",
       "    <tr>\n",
       "      <th>19981</th>\n",
       "      <td>85837</td>\n",
       "      <td>tt9894470</td>\n",
       "      <td>VFW</td>\n",
       "      <td>2019 Action Crime Horror 92 Stephen Lang Willi...</td>\n",
       "    </tr>\n",
       "    <tr>\n",
       "      <th>19982</th>\n",
       "      <td>85839</td>\n",
       "      <td>tt9898858</td>\n",
       "      <td>Coffee &amp; Kareem</td>\n",
       "      <td>2020 Action Comedy 88 Ed Helms Taraji P. Henso...</td>\n",
       "    </tr>\n",
       "    <tr>\n",
       "      <th>19983</th>\n",
       "      <td>85843</td>\n",
       "      <td>tt9900782</td>\n",
       "      <td>Kaithi</td>\n",
       "      <td>2019 Action Thriller 145 Karthi Narain Ramana ...</td>\n",
       "    </tr>\n",
       "  </tbody>\n",
       "</table>\n",
       "<p>19984 rows × 4 columns</p>\n",
       "</div>"
      ],
      "text/plain": [
       "       index imdb_title_id                                          title  \\\n",
       "0          4     tt0002130                                      L'Inferno   \n",
       "1         24     tt0003740                                        Cabiria   \n",
       "2         39     tt0004707                     Tillie's Punctured Romance   \n",
       "3         47     tt0004972                         Nascita di una nazione   \n",
       "4         49     tt0005078                                      The Cheat   \n",
       "...      ...           ...                                            ...   \n",
       "19979  85791     tt9831136                        The Banana Splits Movie   \n",
       "19980  85811     tt9860728  Falling Inn Love - Ristrutturazione con amore   \n",
       "19981  85837     tt9894470                                            VFW   \n",
       "19982  85839     tt9898858                                Coffee & Kareem   \n",
       "19983  85843     tt9900782                                         Kaithi   \n",
       "\n",
       "                                                    tags  \n",
       "0      1911 Adventure Drama Fantasy 68 Salvatore Papa...  \n",
       "1      1914 Adventure Drama History 148 Carolina Cate...  \n",
       "2      1914 Comedy 82 Marie Dressler Charles Chaplin ...  \n",
       "3      1915 Drama History War 195 Henry B. Walthall L...  \n",
       "4      1915 Drama Romance 59 Fannie Ward Sessue Hayak...  \n",
       "...                                                  ...  \n",
       "19979  2019 Comedy Horror Sci-Fi 89 Dani Kind Steve L...  \n",
       "19980  2019 Comedy Romance 98 Christina Milian Adam D...  \n",
       "19981  2019 Action Crime Horror 92 Stephen Lang Willi...  \n",
       "19982  2020 Action Comedy 88 Ed Helms Taraji P. Henso...  \n",
       "19983  2019 Action Thriller 145 Karthi Narain Ramana ...  \n",
       "\n",
       "[19984 rows x 4 columns]"
      ]
     },
     "execution_count": 38,
     "metadata": {},
     "output_type": "execute_result"
    }
   ],
   "source": [
    "final_movies"
   ]
  },
  {
   "cell_type": "code",
   "execution_count": 39,
   "metadata": {},
   "outputs": [
    {
     "name": "stdout",
     "output_type": "stream",
     "text": [
      "Il Signore degli Anelli - Il ritorno del re\n",
      "La leggenda degli uomini straordinari\n",
      "Magadheera\n",
      "Fast & Furious 8\n",
      "Fullmetal Alchemist - The Movie: Il conquistatore di Shamballa\n"
     ]
    }
   ],
   "source": [
    "recommend('Avatar')"
   ]
  }
 ],
 "metadata": {
  "interpreter": {
   "hash": "9a8a4176274f875ff63743747542cb2c296d620251e93470e4eec687a6df4d8a"
  },
  "kernelspec": {
   "display_name": "Python 3.9.7 64-bit ('venv': venv)",
   "language": "python",
   "name": "python3"
  },
  "language_info": {
   "codemirror_mode": {
    "name": "ipython",
    "version": 3
   },
   "file_extension": ".py",
   "mimetype": "text/x-python",
   "name": "python",
   "nbconvert_exporter": "python",
   "pygments_lexer": "ipython3",
   "version": "3.9.7"
  },
  "orig_nbformat": 4
 },
 "nbformat": 4,
 "nbformat_minor": 2
}
