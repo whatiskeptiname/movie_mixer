{
 "cells": [
  {
   "cell_type": "markdown",
   "metadata": {},
   "source": [
    "# movie_mixer\n",
    "\n",
    "Recomendation system to Recomend movies based on combined attributes of two or more movies."
   ]
  },
  {
   "cell_type": "markdown",
   "metadata": {},
   "source": [
    "[movielense-small dataset](https://www.kaggle.com/movielens/movielens-20m-dataset) is used for this project."
   ]
  },
  {
   "cell_type": "code",
   "execution_count": null,
   "metadata": {},
   "outputs": [],
   "source": [
    "import pandas as pd\n",
    "import numpy as np\n",
    "from scipy.sparse import csr_matrix\n",
    "from sklearn.neighbors import NearestNeighbors\n",
    "import matplotlib.pyplot as plt\n",
    "import seaborn as sns\n",
    "\n",
    "\n",
    "movies = pd.read_csv(\"\")"
   ]
  }
 ],
 "metadata": {
  "interpreter": {
   "hash": "9a8a4176274f875ff63743747542cb2c296d620251e93470e4eec687a6df4d8a"
  },
  "kernelspec": {
   "display_name": "Python 3.9.7 64-bit ('venv': venv)",
   "language": "python",
   "name": "python3"
  },
  "language_info": {
   "name": "python",
   "version": "3.9.7"
  },
  "orig_nbformat": 4
 },
 "nbformat": 4,
 "nbformat_minor": 2
}
